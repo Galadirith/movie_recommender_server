{
 "cells": [
  {
   "cell_type": "code",
   "execution_count": null,
   "metadata": {},
   "outputs": [],
   "source": [
    "%matplotlib inline\n",
    "import importlib\n",
    "import scipy\n",
    "import pandas as pd\n",
    "import numpy as np\n",
    "from tqdm import *\n",
    "from keras_tqdm import TQDMNotebookCallback\n",
    "import keras\n",
    "from keras.layers import *\n",
    "from keras.models import Model, Sequential"
   ]
  },
  {
   "cell_type": "code",
   "execution_count": null,
   "metadata": {},
   "outputs": [],
   "source": [
    "movies = pd.read_csv(\"data/movies.dat\", sep=\"::\", usecols=['movie_id', 'title'])\n",
    "ratings = pd.read_csv(\"data/ratings.dat\", sep=\"::\", usecols=['user_id', 'movie_id', 'rating', 'timestamp'])"
   ]
  },
  {
   "cell_type": "code",
   "execution_count": null,
   "metadata": {},
   "outputs": [],
   "source": [
    "# make movie ids sequential\n",
    "for i, row in movies.iterrows():\n",
    "    ratings.loc[ratings['movie_id'] == row.movie_id, 'movie_id'] = i\n",
    "    movies.set_value(i, 'movie_id', i)\n"
   ]
  },
  {
   "cell_type": "code",
   "execution_count": null,
   "metadata": {
    "collapsed": true
   },
   "outputs": [],
   "source": [
    "#pickle.dump( x_train, open( \"data/movies_x_train.pickle\", \"wb\" ) )\n",
    "#pickle.dump( x_val, open( \"data/movies_x_val.pickle\", \"wb\" ) )\n",
    "\n",
    "#ratings = pickle.load( open( \"data/movie_ratings.pickle\", \"rb\" ) )\n",
    "#movies = pickle.load( open( \"data/movies.pickle\", \"rb\" ) )\n",
    "#x_train = pickle.load(open( \"data/movies_x_train.pickle\", \"rb\" ) )\n",
    "#x_val = pickle.load(open( \"data/movies_x_val.pickle\", \"rb\" ) )"
   ]
  },
  {
   "cell_type": "code",
   "execution_count": null,
   "metadata": {
    "collapsed": true
   },
   "outputs": [],
   "source": [
    "ratings = ratings.sort_values(['user_id', 'timestamp'])"
   ]
  },
  {
   "cell_type": "code",
   "execution_count": null,
   "metadata": {
    "collapsed": true
   },
   "outputs": [],
   "source": [
    "def build_data_array(ratings_subset):\n",
    "    user_ids = np.array(ratings_subset.user_id.unique())\n",
    "    user_ids.sort()\n",
    "    arr = np.empty((user_ids.shape[0], movies.shape[0]), 'float32')\n",
    "    i = 0\n",
    "    for user_id in tqdm(user_ids):\n",
    "        ratings_by_user_id = ratings[ratings[\"user_id\"] == user_id]\n",
    "        for j in ratings_by_user_id.itertuples():\n",
    "            if(j.rating > 10 or j.rating < 0):\n",
    "                print(user_id)\n",
    "                print(j.movie_id)\n",
    "            arr[i][j.movie_id] = j.rating\n",
    "        i += 1\n",
    "    \n",
    "    return arr"
   ]
  },
  {
   "cell_type": "code",
   "execution_count": null,
   "metadata": {
    "collapsed": true
   },
   "outputs": [],
   "source": [
    "def masked_mean_squared_error(y_true, y_pred):\n",
    "    mask_value = 0\n",
    "    mask_true = K.cast(K.not_equal(y_true, mask_value), K.floatx())\n",
    "    masked_squared_error = K.square(mask_true * (y_true - y_pred))\n",
    "    masked_mse = K.sum(masked_squared_error, axis=-1) / K.sum(mask_true, axis=-1)\n",
    "    return masked_mse"
   ]
  },
  {
   "cell_type": "code",
   "execution_count": null,
   "metadata": {},
   "outputs": [],
   "source": [
    "x = ratings\n",
    "num_validation_samples = int(0.2 * x.shape[0])\n",
    "print(num_validation_samples)\n",
    "grouped = ratings.groupby(['movie_id'])['movie_id'].count().sort_values(ascending=True)\n",
    "x = x[x.movie_id.isin(grouped[grouped >= 5].index)]\n",
    "user_id = 0\n",
    "\n",
    "while(len(ratings[ratings['user_id'] < user_id]) < num_validation_samples):\n",
    "    user_id += 2\n",
    "\n",
    "x_train = x[x.user_id >= user_id]\n",
    "x_val = x[x.user_id < user_id]\n",
    "\n",
    "x_train = build_data_array(x_train)\n",
    "x_val = build_data_array(x_val)"
   ]
  },
  {
   "cell_type": "code",
   "execution_count": null,
   "metadata": {},
   "outputs": [],
   "source": [
    "def train(model, inputs, n, refeed = False):\n",
    "    params = {'verbose': 0, 'callbacks': [TQDMNotebookCallback(leave_inner=True)]}\n",
    "    for i in range(0, n):\n",
    "        if(i % 5 == 0):\n",
    "            print(\"Training data \", i)\n",
    "        model.fit(inputs, inputs, validation_data=(x_val, x_val),\n",
    "                epochs=1,\n",
    "                batch_size=128, **params)\n",
    "        if(refeed):\n",
    "            predicted = model.predict(inputs)\n",
    "            if(i % 5 == 0):\n",
    "                print(\"Refeed \", i)\n",
    "            model.fit(predicted, predicted, epochs=1, batch_size=128, **params, validation_data=(x_val, x_val))"
   ]
  },
  {
   "cell_type": "code",
   "execution_count": null,
   "metadata": {
    "scrolled": true
   },
   "outputs": [],
   "source": [
    "#ACTUAL MODEL TRAINING\n",
    "\n",
    "inputs = Input(shape=(movies.shape[0],))\n",
    "encoded = Dense(100, activation='selu')(inputs)\n",
    "encoded = Dense(128, activation='selu')(encoded)\n",
    "encoded = Dense(128, activation='selu')(encoded)\n",
    "encoded = Dropout(0.65)(encoded)\n",
    "encoded = Dense(128, activation='selu')(encoded)\n",
    "encoded = Dense(100, activation='selu')(encoded)\n",
    "decoded = Dense(movies.shape[0])(encoded)\n",
    "autoencoder = Model(inputs, decoded)\n",
    "autoencoder.compile(optimizer=keras.optimizers.SGD(lr=0.005, momentum=0.9), loss = masked_mean_squared_error)\n",
    "\n",
    "params = {'verbose': 0, 'callbacks': [TQDMNotebookCallback(leave_inner=True)]}\n",
    "#history = autoencoder.fit(x_train, x_train, validation_data=(x_val, x_val), batch_size=128, epochs=100, **params)\n",
    "train(autoencoder, x_train, 2, True)"
   ]
  },
  {
   "cell_type": "code",
   "execution_count": null,
   "metadata": {
    "scrolled": true
   },
   "outputs": [],
   "source": [
    "train(autoencoder, x_train, 1, False)"
   ]
  },
  {
   "cell_type": "code",
   "execution_count": null,
   "metadata": {
    "collapsed": true
   },
   "outputs": [],
   "source": [
    "#autoencoder.save(\"model_refeed.hf5\")\n",
    "autoencoder.save(\"model2.hf5\")\n",
    "#autoencoder.evaluate(x_test, x_test)\n",
    "# val_loss 0.642"
   ]
  },
  {
   "cell_type": "code",
   "execution_count": null,
   "metadata": {
    "collapsed": true
   },
   "outputs": [],
   "source": []
  }
 ],
 "metadata": {
  "kernelspec": {
   "display_name": "Python 3",
   "language": "python",
   "name": "python3"
  },
  "language_info": {
   "codemirror_mode": {
    "name": "ipython",
    "version": 3
   },
   "file_extension": ".py",
   "mimetype": "text/x-python",
   "name": "python",
   "nbconvert_exporter": "python",
   "pygments_lexer": "ipython3",
   "version": "3.6.2"
  }
 },
 "nbformat": 4,
 "nbformat_minor": 2
}
